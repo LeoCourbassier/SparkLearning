{
 "cells": [
  {
   "cell_type": "code",
   "execution_count": 4,
   "metadata": {
    "scrolled": true
   },
   "outputs": [
    {
     "name": "stdout",
     "output_type": "stream",
     "text": [
      "+---+-----+-------------------+-----+-----------+\n",
      "| id| name|           end_time|value|    comment|\n",
      "+---+-----+-------------------+-----+-----------+\n",
      "|  1|node1|2017-03-24 08:30:00|    5|notrelevant|\n",
      "|  2|node1|2017-03-24 09:00:00|    3|notrelevant|\n",
      "|  3|node1|2017-03-24 09:30:00|    8|notrelevant|\n",
      "|  4|node2|2017-03-24 10:00:00|    5|notrelevant|\n",
      "|  5|node2|2017-03-24 10:30:00|    3|notrelevant|\n",
      "|  6|node2|2017-03-24 11:00:00|    1|notrelevant|\n",
      "|  7|node2|2017-03-24 11:30:00|    3|notrelevant|\n",
      "|  8|node2|2017-03-24 12:00:00|    5|notrelevant|\n",
      "+---+-----+-------------------+-----+-----------+\n",
      "\n"
     ]
    }
   ],
   "source": [
    "import os\n",
    "from pyspark.sql import SQLContext\n",
    "from pyspark import SparkContext\n",
    "from pyspark.sql.functions import col\n",
    "\n",
    "conf = SparkConf().setAppName('PySparkShell').setMaster('local')\n",
    "sc = SparkContext.getOrCreate(conf)\n",
    "sqlContext = SQLContext(sc)\n",
    "\n",
    "hostname = \"127.0.0.1\" \n",
    "dbname = \"spark_test\"\n",
    "jdbcPort = 3306\n",
    "username = \"root\"\n",
    "password = \"rootpwd\"\n",
    "jdbc_url = \"jdbc:mysql://{0}:{1}/{2}?user={3}&password={4}\".format(hostname,jdbcPort, dbname,username,password)\n",
    "\n",
    "\n",
    "query = \"window_test\"\n",
    "df1 = sqlContext.read.format('jdbc').options(driver = 'com.mysql.jdbc.Driver',url=jdbc_url, dbtable=query ).load()\n",
    "df1.show()"
   ]
  },
  {
   "cell_type": "code",
   "execution_count": 5,
   "metadata": {
    "scrolled": true
   },
   "outputs": [
    {
     "data": {
      "text/plain": [
       "[Row(name='node2', window=Row(start=datetime.datetime(2017, 3, 24, 9, 20), end=datetime.datetime(2017, 3, 24, 11, 20)), max(value)=5),\n",
       " Row(name='node2', window=Row(start=datetime.datetime(2017, 3, 24, 10, 40), end=datetime.datetime(2017, 3, 24, 12, 40)), max(value)=5),\n",
       " Row(name='node1', window=Row(start=datetime.datetime(2017, 3, 24, 9, 0), end=datetime.datetime(2017, 3, 24, 11, 0)), max(value)=8),\n",
       " Row(name='node1', window=Row(start=datetime.datetime(2017, 3, 24, 7, 0), end=datetime.datetime(2017, 3, 24, 9, 0)), max(value)=5),\n",
       " Row(name='node2', window=Row(start=datetime.datetime(2017, 3, 24, 8, 40), end=datetime.datetime(2017, 3, 24, 10, 40)), max(value)=5),\n",
       " Row(name='node1', window=Row(start=datetime.datetime(2017, 3, 24, 7, 20), end=datetime.datetime(2017, 3, 24, 9, 20)), max(value)=5),\n",
       " Row(name='node1', window=Row(start=datetime.datetime(2017, 3, 24, 8, 20), end=datetime.datetime(2017, 3, 24, 10, 20)), max(value)=8),\n",
       " Row(name='node2', window=Row(start=datetime.datetime(2017, 3, 24, 10, 20), end=datetime.datetime(2017, 3, 24, 12, 20)), max(value)=5),\n",
       " Row(name='node2', window=Row(start=datetime.datetime(2017, 3, 24, 9, 0), end=datetime.datetime(2017, 3, 24, 11, 0)), max(value)=5),\n",
       " Row(name='node1', window=Row(start=datetime.datetime(2017, 3, 24, 6, 40), end=datetime.datetime(2017, 3, 24, 8, 40)), max(value)=5),\n",
       " Row(name='node2', window=Row(start=datetime.datetime(2017, 3, 24, 8, 20), end=datetime.datetime(2017, 3, 24, 10, 20)), max(value)=5),\n",
       " Row(name='node1', window=Row(start=datetime.datetime(2017, 3, 24, 7, 40), end=datetime.datetime(2017, 3, 24, 9, 40)), max(value)=8),\n",
       " Row(name='node2', window=Row(start=datetime.datetime(2017, 3, 24, 9, 40), end=datetime.datetime(2017, 3, 24, 11, 40)), max(value)=5),\n",
       " Row(name='node2', window=Row(start=datetime.datetime(2017, 3, 24, 11, 40), end=datetime.datetime(2017, 3, 24, 13, 40)), max(value)=5),\n",
       " Row(name='node2', window=Row(start=datetime.datetime(2017, 3, 24, 12, 0), end=datetime.datetime(2017, 3, 24, 14, 0)), max(value)=5),\n",
       " Row(name='node1', window=Row(start=datetime.datetime(2017, 3, 24, 8, 40), end=datetime.datetime(2017, 3, 24, 10, 40)), max(value)=8),\n",
       " Row(name='node2', window=Row(start=datetime.datetime(2017, 3, 24, 10, 0), end=datetime.datetime(2017, 3, 24, 12, 0)), max(value)=5),\n",
       " Row(name='node2', window=Row(start=datetime.datetime(2017, 3, 24, 11, 0), end=datetime.datetime(2017, 3, 24, 13, 0)), max(value)=5),\n",
       " Row(name='node2', window=Row(start=datetime.datetime(2017, 3, 24, 11, 20), end=datetime.datetime(2017, 3, 24, 13, 20)), max(value)=5),\n",
       " Row(name='node1', window=Row(start=datetime.datetime(2017, 3, 24, 9, 20), end=datetime.datetime(2017, 3, 24, 11, 20)), max(value)=8),\n",
       " Row(name='node1', window=Row(start=datetime.datetime(2017, 3, 24, 8, 0), end=datetime.datetime(2017, 3, 24, 10, 0)), max(value)=8)]"
      ]
     },
     "execution_count": 5,
     "metadata": {},
     "output_type": "execute_result"
    }
   ],
   "source": [
    "from pyspark.sql.functions import col, window, max\n",
    "\n",
    "df1.groupBy(\n",
    "    col(\"name\"), window(col(\"end_time\"), \"2 hour\", \"20 minute\")\n",
    ")\\\n",
    ".agg(max(\"value\"))\\\n",
    ".collect()\n",
    "#.filter(col(\"max(value)\") < 6)\\\n",
    "#.select(\"name\", \"max(value)\").distinct().show()\n",
    "\n",
    "#.agg(max(\"value\")).withRenamedColumn(\"max('value')\", \"2_hour_max_value\")).filter(col(\"2_hour_max_value\") < 6).select(\"name\").distinct()"
   ]
  },
  {
   "cell_type": "code",
   "execution_count": null,
   "metadata": {},
   "outputs": [],
   "source": []
  }
 ],
 "metadata": {
  "kernelspec": {
   "display_name": "Python 3",
   "language": "python",
   "name": "python3"
  },
  "language_info": {
   "codemirror_mode": {
    "name": "ipython",
    "version": 3
   },
   "file_extension": ".py",
   "mimetype": "text/x-python",
   "name": "python",
   "nbconvert_exporter": "python",
   "pygments_lexer": "ipython3",
   "version": "3.7.4"
  }
 },
 "nbformat": 4,
 "nbformat_minor": 2
}
